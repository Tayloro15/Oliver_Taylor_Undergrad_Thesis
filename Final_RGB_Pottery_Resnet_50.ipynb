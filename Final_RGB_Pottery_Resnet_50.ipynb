{
  "nbformat": 4,
  "nbformat_minor": 0,
  "metadata": {
    "colab": {
      "provenance": [],
      "gpuType": "T4",
      "mount_file_id": "1emSSF9oVxCMQXSSemZ0wdtFJkcz3WLkS",
      "authorship_tag": "ABX9TyPZ2hABAFX7rAHB+suTLqdS"
    },
    "kernelspec": {
      "name": "python3",
      "display_name": "Python 3"
    },
    "language_info": {
      "name": "python"
    },
    "accelerator": "GPU"
  },
  "cells": [
    {
      "cell_type": "code",
      "execution_count": null,
      "metadata": {
        "id": "wvNhl1rf8ylQ"
      },
      "outputs": [],
      "source": [
        "import matplotlib.pyplot as plt\n",
        "import numpy as np\n",
        "import os\n",
        "import PIL\n",
        "import tensorflow as tf\n",
        "from tensorflow import keras\n",
        "from tensorflow.keras import layers\n",
        "from tensorflow.python.keras.layers import Dense, Flatten, Dropout, GlobalAveragePooling2D\n",
        "from tensorflow.keras.models import Sequential\n",
        "from tensorflow.keras.optimizers import Adam, RMSprop\n",
        "import time\n",
        "%load_ext tensorboard"
      ]
    },
    {
      "cell_type": "code",
      "source": [
        "from tensorflow.keras.callbacks import TensorBoard\n",
        "Name = \"Final_Pottery_Resnet_50_dropout0.2\".format(int(time.time()))\n",
        "path_dir ='/content/drive/MyDrive/restof_of_the_path_to_this_file'\n",
        "\n",
        "tensorboard = TensorBoard(log_dir = '/content/drive/MyDrive/rest_of_the_path/logs/{}'.format(Name))\n"
      ],
      "metadata": {
        "id": "5gImHC0rHT6r"
      },
      "execution_count": null,
      "outputs": []
    },
    {
      "cell_type": "code",
      "source": [
        "import pathlib\n",
        "data_dir = \"/content/drive/MyDrive/_rest_of_the_path_to_this_file\"\n",
        "print(data_dir)\n",
        "data_dir = pathlib.Path(data_dir)"
      ],
      "metadata": {
        "id": "RRU_8giK9Cl7"
      },
      "execution_count": null,
      "outputs": []
    },
    {
      "cell_type": "code",
      "source": [
        "BATCH_SIZE = 12\n",
        "SEED = 1\n",
        "img_height,img_width = 600,720\n",
        "\n",
        "train_dataset = tf.keras.utils.image_dataset_from_directory(\n",
        "    data_dir,\n",
        "    label_mode = \"binary\",\n",
        "    color_mode='grayscale',\n",
        "    batch_size=BATCH_SIZE,\n",
        "    image_size=(img_height, img_width),\n",
        "    shuffle=True,\n",
        "    validation_split=0.2,\n",
        "    subset='training',\n",
        "    seed=SEED)\n",
        "\n",
        "val_dataset = tf.keras.utils.image_dataset_from_directory(\n",
        "    data_dir,\n",
        "    label_mode = \"binary\",\n",
        "    color_mode='grayscale',\n",
        "    batch_size=BATCH_SIZE,\n",
        "    image_size=(img_height, img_width),\n",
        "    shuffle=False,\n",
        "    validation_split=0.2,\n",
        "    subset='validation',\n",
        "    seed=SEED)\n"
      ],
      "metadata": {
        "id": "JhOFnNwa9GAl"
      },
      "execution_count": null,
      "outputs": []
    },
    {
      "cell_type": "code",
      "source": [
        "class_names = train_dataset.class_names\n",
        "print(class_names)"
      ],
      "metadata": {
        "id": "fqVpQqot9K_L"
      },
      "execution_count": null,
      "outputs": []
    },
    {
      "cell_type": "code",
      "source": [
        "from tensorflow.image import flip_left_right, flip_up_down, rot90, grayscale_to_rgb, rgb_to_grayscale\n",
        "\n",
        "def rescale_and_rgb(image, label):\n",
        "    image = tf.cast(image, tf.float32)\n",
        "    imge = (image/255.0)\n",
        "    image = grayscale_to_rgb(image)\n",
        "    return image, label\n",
        "\n",
        "train_dataset = train_dataset.map(rescale_and_rgb, num_parallel_calls=tf.data.AUTOTUNE)\n",
        "val_dataset = val_dataset.map(rescale_and_rgb, num_parallel_calls=tf.data.AUTOTUNE)\n",
        "\n",
        "data_augmentation = tf.keras.Sequential([\n",
        "  layers.RandomFlip(\"horizontal_and_vertical\"),\n",
        "  layers.RandomRotation(0.2),\n",
        "])\n",
        "\n",
        "def prepare(ds, augment=False):\n",
        "    if augment:\n",
        "        ds = ds.map(lambda x, y: (data_augmentation(x, training=True), y),\n",
        "                num_parallel_calls=tf.data.AUTOTUNE)\n",
        "    # Use buffered prefetching on all datasets.\n",
        "    return ds.prefetch(buffer_size=tf.data.AUTOTUNE)\n",
        "\n",
        "train_dataset = prepare(train_dataset, augment=True)\n",
        "val_dataset = prepare(val_dataset)\n",
        "print(\"complete\")"
      ],
      "metadata": {
        "id": "pvctsov49NNG"
      },
      "execution_count": null,
      "outputs": []
    },
    {
      "cell_type": "code",
      "source": [
        "from tensorflow.keras.applications import ResNet50\n",
        "pretrained_model = ResNet50(\n",
        "    include_top=False,\n",
        "    weights=\"imagenet\",\n",
        "    input_shape =(600, 720, 3),\n",
        "    classes = 2)\n",
        "\n",
        "pretrained_model.summary()"
      ],
      "metadata": {
        "id": "U0e0fX7l97J2"
      },
      "execution_count": null,
      "outputs": []
    },
    {
      "cell_type": "code",
      "source": [
        "for layer in pretrained_model.layers:\n",
        "  layer.trainable = False"
      ],
      "metadata": {
        "id": "elBjMWjI9_6J"
      },
      "execution_count": null,
      "outputs": []
    },
    {
      "cell_type": "code",
      "source": [
        "from tensorflow.keras.models import Sequential\n",
        "from tensorflow.keras.layers import *\n",
        "\n",
        "costumized_resnet_model = Sequential()\n",
        "\n",
        "costumized_resnet_model.add(pretrained_model)\n",
        "costumized_resnet_model.add(GlobalAveragePooling2D())\n",
        "costumized_resnet_model.add(Flatten())\n",
        "costumized_resnet_model.add(Dropout(0.2))\n",
        "costumized_resnet_model.add(Dense(512, \"relu\"))\n",
        "costumized_resnet_model.add(Dense(1, \"sigmoid\"))\n",
        "\n",
        "costumized_resnet_model.summary()"
      ],
      "metadata": {
        "id": "gfIpmeLb-Coz"
      },
      "execution_count": null,
      "outputs": []
    },
    {
      "cell_type": "code",
      "source": [
        "from tensorflow.keras.metrics import *\n",
        "\n",
        "metrics = ['accuracy', Precision(), Recall(), AUC()] # add F1Score() when not using tensorboard\n",
        "\n",
        "from tensorflow.keras.optimizers import Adam, RMSprop\n",
        "from tensorflow.keras.losses import BinaryCrossentropy\n",
        "\n",
        "costumized_resnet_model.compile(loss=BinaryCrossentropy(),\n",
        "                 optimizer=Adam(learning_rate=0.001),\n",
        "                 metrics=metrics)"
      ],
      "metadata": {
        "id": "VabhiEdJ9Nba"
      },
      "execution_count": null,
      "outputs": []
    },
    {
      "cell_type": "code",
      "source": [
        "from tensorflow.keras.callbacks import ModelCheckpoint\n",
        "\n",
        "\n",
        "model_save_path = \"/content/saved_models/{}\".format(Name)\n",
        "\n",
        "check_point = ModelCheckpoint( filepath=model_save_path, monitor= 'val_accuracy', mode = 'max', save_best_only=True,verbose=1)"
      ],
      "metadata": {
        "id": "lGE6hXIlSRh5"
      },
      "execution_count": null,
      "outputs": []
    },
    {
      "cell_type": "code",
      "source": [
        "from tensorflow.keras.callbacks import EarlyStopping\n",
        "\n",
        "es = EarlyStopping(patience=7, monitor='val_loss')"
      ],
      "metadata": {
        "id": "RHNIKlVk9SnG"
      },
      "execution_count": null,
      "outputs": []
    },
    {
      "cell_type": "code",
      "source": [
        "epochs = 100\n",
        "Resnet50_model_history = costumized_resnet_model.fit(train_dataset, epochs=epochs,\n",
        "             validation_data=val_dataset, callbacks=[tensorboard,check_point])\n",
        "print(\"complete\")"
      ],
      "metadata": {
        "id": "OMwvdTI09TRf"
      },
      "execution_count": null,
      "outputs": []
    },
    {
      "cell_type": "code",
      "source": [
        "\n",
        "\n",
        "\n",
        "%tensorboard --logdir /content/drive/MyDrive/_rest_of_the_path_to_the_images\n"
      ],
      "metadata": {
        "id": "83EBxfeCKZzM"
      },
      "execution_count": null,
      "outputs": []
    }
  ]
}